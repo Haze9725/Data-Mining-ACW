{
 "cells": [
  {
   "cell_type": "code",
   "execution_count": 1,
   "metadata": {},
   "outputs": [],
   "source": [
    "import pandas as pd\n",
    "import numpy as np\n",
    "import seaborn as sns\n",
    "import matplotlib.pyplot as plt\n",
    "%matplotlib inline\n",
    "\n",
    "from sklearn import preprocessing\n",
    "from sklearn import metrics\n",
    "from sklearn.utils.multiclass import unique_labels\n",
    "from sklearn.metrics import confusion_matrix\n",
    "from sklearn.model_selection import train_test_split\n",
    "from sklearn.linear_model import LinearRegression\n",
    "from sklearn.model_selection import KFold\n",
    "from sklearn.model_selection import cross_val_score\n",
    "from sklearn.model_selection import cross_val_predict\n",
    "from sklearn.naive_bayes import GaussianNB\n",
    "from sklearn.svm import LinearSVC\n",
    "from sklearn.neighbors import KNeighborsClassifier\n",
    "from sklearn.linear_model import LogisticRegression\n",
    "from sklearn.preprocessing import StandardScaler\n",
    "from sklearn.metrics import accuracy_score\n",
    "from yellowbrick.classifier import ClassificationReport\n",
    "from sklearn.metrics import mean_absolute_error"
   ]
  },
  {
   "cell_type": "code",
   "execution_count": 2,
   "metadata": {
    "scrolled": true
   },
   "outputs": [
    {
     "data": {
      "text/html": [
       "<div>\n",
       "<style scoped>\n",
       "    .dataframe tbody tr th:only-of-type {\n",
       "        vertical-align: middle;\n",
       "    }\n",
       "\n",
       "    .dataframe tbody tr th {\n",
       "        vertical-align: top;\n",
       "    }\n",
       "\n",
       "    .dataframe thead th {\n",
       "        text-align: right;\n",
       "    }\n",
       "</style>\n",
       "<table border=\"1\" class=\"dataframe\">\n",
       "  <thead>\n",
       "    <tr style=\"text-align: right;\">\n",
       "      <th></th>\n",
       "      <th>Random</th>\n",
       "      <th>Id</th>\n",
       "      <th>Indication</th>\n",
       "      <th>Diabetes</th>\n",
       "      <th>IHD</th>\n",
       "      <th>Hypertension</th>\n",
       "      <th>Arrhythmia</th>\n",
       "      <th>History</th>\n",
       "      <th>IPSI</th>\n",
       "      <th>Contra</th>\n",
       "      <th>label</th>\n",
       "    </tr>\n",
       "  </thead>\n",
       "  <tbody>\n",
       "    <tr>\n",
       "      <th>0</th>\n",
       "      <td>0.602437</td>\n",
       "      <td>218242</td>\n",
       "      <td>A-F</td>\n",
       "      <td>no</td>\n",
       "      <td>no</td>\n",
       "      <td>yes</td>\n",
       "      <td>no</td>\n",
       "      <td>no</td>\n",
       "      <td>78.0</td>\n",
       "      <td>20</td>\n",
       "      <td>NoRisk</td>\n",
       "    </tr>\n",
       "    <tr>\n",
       "      <th>1</th>\n",
       "      <td>0.602437</td>\n",
       "      <td>159284</td>\n",
       "      <td>TIA</td>\n",
       "      <td>no</td>\n",
       "      <td>no</td>\n",
       "      <td>no</td>\n",
       "      <td>no</td>\n",
       "      <td>no</td>\n",
       "      <td>70.0</td>\n",
       "      <td>60</td>\n",
       "      <td>NoRisk</td>\n",
       "    </tr>\n",
       "    <tr>\n",
       "      <th>2</th>\n",
       "      <td>0.602437</td>\n",
       "      <td>106066</td>\n",
       "      <td>A-F</td>\n",
       "      <td>no</td>\n",
       "      <td>yes</td>\n",
       "      <td>yes</td>\n",
       "      <td>no</td>\n",
       "      <td>no</td>\n",
       "      <td>95.0</td>\n",
       "      <td>40</td>\n",
       "      <td>Risk</td>\n",
       "    </tr>\n",
       "    <tr>\n",
       "      <th>3</th>\n",
       "      <td>0.128157</td>\n",
       "      <td>229592</td>\n",
       "      <td>TIA</td>\n",
       "      <td>no</td>\n",
       "      <td>no</td>\n",
       "      <td>yes</td>\n",
       "      <td>no</td>\n",
       "      <td>no</td>\n",
       "      <td>90.0</td>\n",
       "      <td>85</td>\n",
       "      <td>Risk</td>\n",
       "    </tr>\n",
       "    <tr>\n",
       "      <th>4</th>\n",
       "      <td>0.676862</td>\n",
       "      <td>245829</td>\n",
       "      <td>CVA</td>\n",
       "      <td>no</td>\n",
       "      <td>no</td>\n",
       "      <td>no</td>\n",
       "      <td>no</td>\n",
       "      <td>no</td>\n",
       "      <td>70.0</td>\n",
       "      <td>20</td>\n",
       "      <td>NoRisk</td>\n",
       "    </tr>\n",
       "  </tbody>\n",
       "</table>\n",
       "</div>"
      ],
      "text/plain": [
       "     Random      Id Indication Diabetes  IHD Hypertension Arrhythmia History  \\\n",
       "0  0.602437  218242        A-F       no   no          yes         no      no   \n",
       "1  0.602437  159284        TIA       no   no           no         no      no   \n",
       "2  0.602437  106066        A-F       no  yes          yes         no      no   \n",
       "3  0.128157  229592        TIA       no   no          yes         no      no   \n",
       "4  0.676862  245829        CVA       no   no           no         no      no   \n",
       "\n",
       "   IPSI Contra   label  \n",
       "0  78.0    20   NoRisk  \n",
       "1  70.0    60   NoRisk  \n",
       "2  95.0     40    Risk  \n",
       "3  90.0     85    Risk  \n",
       "4  70.0    20   NoRisk  "
      ]
     },
     "execution_count": 2,
     "metadata": {},
     "output_type": "execute_result"
    }
   ],
   "source": [
    "#Loading the dataset into a DataFrame\n",
    "\n",
    "data = pd.read_csv(\"600092_data.csv\")\n",
    "data.head()"
   ]
  },
  {
   "cell_type": "code",
   "execution_count": 3,
   "metadata": {},
   "outputs": [
    {
     "data": {
      "text/html": [
       "<div>\n",
       "<style scoped>\n",
       "    .dataframe tbody tr th:only-of-type {\n",
       "        vertical-align: middle;\n",
       "    }\n",
       "\n",
       "    .dataframe tbody tr th {\n",
       "        vertical-align: top;\n",
       "    }\n",
       "\n",
       "    .dataframe thead th {\n",
       "        text-align: right;\n",
       "    }\n",
       "</style>\n",
       "<table border=\"1\" class=\"dataframe\">\n",
       "  <thead>\n",
       "    <tr style=\"text-align: right;\">\n",
       "      <th></th>\n",
       "      <th>Random</th>\n",
       "      <th>Id</th>\n",
       "      <th>IPSI</th>\n",
       "    </tr>\n",
       "  </thead>\n",
       "  <tbody>\n",
       "    <tr>\n",
       "      <th>count</th>\n",
       "      <td>1520.000000</td>\n",
       "      <td>1520.000000</td>\n",
       "      <td>1516.000000</td>\n",
       "    </tr>\n",
       "    <tr>\n",
       "      <th>mean</th>\n",
       "      <td>0.509545</td>\n",
       "      <td>188365.022368</td>\n",
       "      <td>78.872032</td>\n",
       "    </tr>\n",
       "    <tr>\n",
       "      <th>std</th>\n",
       "      <td>0.284006</td>\n",
       "      <td>64355.870242</td>\n",
       "      <td>10.162351</td>\n",
       "    </tr>\n",
       "    <tr>\n",
       "      <th>min</th>\n",
       "      <td>0.000295</td>\n",
       "      <td>78261.000000</td>\n",
       "      <td>35.000000</td>\n",
       "    </tr>\n",
       "    <tr>\n",
       "      <th>25%</th>\n",
       "      <td>0.268531</td>\n",
       "      <td>137130.750000</td>\n",
       "      <td>73.000000</td>\n",
       "    </tr>\n",
       "    <tr>\n",
       "      <th>50%</th>\n",
       "      <td>0.517616</td>\n",
       "      <td>191344.500000</td>\n",
       "      <td>77.000000</td>\n",
       "    </tr>\n",
       "    <tr>\n",
       "      <th>75%</th>\n",
       "      <td>0.754724</td>\n",
       "      <td>244559.500000</td>\n",
       "      <td>85.000000</td>\n",
       "    </tr>\n",
       "    <tr>\n",
       "      <th>max</th>\n",
       "      <td>0.999448</td>\n",
       "      <td>295978.000000</td>\n",
       "      <td>99.000000</td>\n",
       "    </tr>\n",
       "  </tbody>\n",
       "</table>\n",
       "</div>"
      ],
      "text/plain": [
       "            Random             Id         IPSI\n",
       "count  1520.000000    1520.000000  1516.000000\n",
       "mean      0.509545  188365.022368    78.872032\n",
       "std       0.284006   64355.870242    10.162351\n",
       "min       0.000295   78261.000000    35.000000\n",
       "25%       0.268531  137130.750000    73.000000\n",
       "50%       0.517616  191344.500000    77.000000\n",
       "75%       0.754724  244559.500000    85.000000\n",
       "max       0.999448  295978.000000    99.000000"
      ]
     },
     "execution_count": 3,
     "metadata": {},
     "output_type": "execute_result"
    }
   ],
   "source": [
    "data.describe()"
   ]
  },
  {
   "cell_type": "markdown",
   "metadata": {},
   "source": [
    "Running the describe function here shows there isn't many numeric columns in the dataset. What is interesting though is that the column Contra doesn't show up here, meaning that although it appears numeric in the dataframe above, it is actually an object, and needs to be converted."
   ]
  },
  {
   "cell_type": "code",
   "execution_count": 4,
   "metadata": {},
   "outputs": [
    {
     "data": {
      "text/plain": [
       "Random          float64\n",
       "Id                int64\n",
       "Indication       object\n",
       "Diabetes         object\n",
       "IHD              object\n",
       "Hypertension     object\n",
       "Arrhythmia       object\n",
       "History          object\n",
       "IPSI            float64\n",
       "Contra           object\n",
       "label            object\n",
       "dtype: object"
      ]
     },
     "execution_count": 4,
     "metadata": {},
     "output_type": "execute_result"
    }
   ],
   "source": [
    "#View the datatypes for each column of the dataframe\n",
    "data.dtypes"
   ]
  },
  {
   "cell_type": "code",
   "execution_count": 5,
   "metadata": {
    "scrolled": true
   },
   "outputs": [
    {
     "name": "stdout",
     "output_type": "stream",
     "text": [
      "<class 'pandas.core.frame.DataFrame'>\n",
      "RangeIndex: 1520 entries, 0 to 1519\n",
      "Data columns (total 11 columns):\n",
      "Random          1520 non-null float64\n",
      "Id              1520 non-null int64\n",
      "Indication      1517 non-null object\n",
      "Diabetes        1518 non-null object\n",
      "IHD             1520 non-null object\n",
      "Hypertension    1517 non-null object\n",
      "Arrhythmia      1520 non-null object\n",
      "History         1518 non-null object\n",
      "IPSI            1516 non-null float64\n",
      "Contra          1520 non-null object\n",
      "label           1517 non-null object\n",
      "dtypes: float64(2), int64(1), object(8)\n",
      "memory usage: 130.7+ KB\n"
     ]
    }
   ],
   "source": [
    "data.info()"
   ]
  },
  {
   "cell_type": "markdown",
   "metadata": {},
   "source": [
    "## Performing Initial Exploratory Data Analysis"
   ]
  },
  {
   "cell_type": "markdown",
   "metadata": {},
   "source": [
    "The first step is to clean the data of any missing values. It depends on the amount of missing values, if these are small, there is a chance these can remain in, otherwise they will be removed."
   ]
  },
  {
   "cell_type": "markdown",
   "metadata": {},
   "source": [
    "We are mostly interested in the column 'Label', as this is where our main classification will take place, so lets start by checking how many Risk and No Risk values we have within this column."
   ]
  },
  {
   "cell_type": "code",
   "execution_count": 6,
   "metadata": {},
   "outputs": [
    {
     "data": {
      "text/plain": [
       "NoRisk     1008\n",
       "Risk        507\n",
       "Unknown       2\n",
       "Name: label, dtype: int64"
      ]
     },
     "execution_count": 6,
     "metadata": {},
     "output_type": "execute_result"
    }
   ],
   "source": [
    "#Create a new dataframe that only contains the values within the column label, and then count them\n",
    "data[\"label\"].value_counts()"
   ]
  },
  {
   "cell_type": "markdown",
   "metadata": {},
   "source": [
    "Here we can see there are 2 Unknown values, alongside risk and no risk results."
   ]
  },
  {
   "cell_type": "code",
   "execution_count": 7,
   "metadata": {},
   "outputs": [
    {
     "data": {
      "text/html": [
       "<div>\n",
       "<style scoped>\n",
       "    .dataframe tbody tr th:only-of-type {\n",
       "        vertical-align: middle;\n",
       "    }\n",
       "\n",
       "    .dataframe tbody tr th {\n",
       "        vertical-align: top;\n",
       "    }\n",
       "\n",
       "    .dataframe thead th {\n",
       "        text-align: right;\n",
       "    }\n",
       "</style>\n",
       "<table border=\"1\" class=\"dataframe\">\n",
       "  <thead>\n",
       "    <tr style=\"text-align: right;\">\n",
       "      <th></th>\n",
       "      <th>Random</th>\n",
       "      <th>Id</th>\n",
       "      <th>Indication</th>\n",
       "      <th>Diabetes</th>\n",
       "      <th>IHD</th>\n",
       "      <th>Hypertension</th>\n",
       "      <th>Arrhythmia</th>\n",
       "      <th>History</th>\n",
       "      <th>IPSI</th>\n",
       "      <th>Contra</th>\n",
       "      <th>label</th>\n",
       "    </tr>\n",
       "  </thead>\n",
       "  <tbody>\n",
       "    <tr>\n",
       "      <th>475</th>\n",
       "      <td>0.298074</td>\n",
       "      <td>173791</td>\n",
       "      <td>ASx</td>\n",
       "      <td>no</td>\n",
       "      <td>yes</td>\n",
       "      <td>yes</td>\n",
       "      <td>no</td>\n",
       "      <td>no</td>\n",
       "      <td>70.0</td>\n",
       "      <td>55</td>\n",
       "      <td>Unknown</td>\n",
       "    </tr>\n",
       "    <tr>\n",
       "      <th>523</th>\n",
       "      <td>0.460170</td>\n",
       "      <td>283846</td>\n",
       "      <td>CVA</td>\n",
       "      <td>no</td>\n",
       "      <td>no</td>\n",
       "      <td>yes</td>\n",
       "      <td>yes</td>\n",
       "      <td>no</td>\n",
       "      <td>95.0</td>\n",
       "      <td>100</td>\n",
       "      <td>Unknown</td>\n",
       "    </tr>\n",
       "  </tbody>\n",
       "</table>\n",
       "</div>"
      ],
      "text/plain": [
       "       Random      Id Indication Diabetes  IHD Hypertension Arrhythmia  \\\n",
       "475  0.298074  173791        ASx       no  yes          yes         no   \n",
       "523  0.460170  283846        CVA       no   no          yes        yes   \n",
       "\n",
       "    History  IPSI Contra    label  \n",
       "475      no  70.0     55  Unknown  \n",
       "523      no  95.0    100  Unknown  "
      ]
     },
     "execution_count": 7,
     "metadata": {},
     "output_type": "execute_result"
    }
   ],
   "source": [
    "#Show only the values with an unknown label value\n",
    "label = data[data[\"label\"] == \"Unknown\"]\n",
    "label"
   ]
  },
  {
   "cell_type": "markdown",
   "metadata": {},
   "source": [
    "Lets replace those Unknown values with nan values that will be removed with any other null values"
   ]
  },
  {
   "cell_type": "code",
   "execution_count": 8,
   "metadata": {},
   "outputs": [],
   "source": [
    "#Replace any values in the column label that equal Unknown into a NaN value\n",
    "data[\"label\"] = data[\"label\"].replace(\"Unknown\", np.nan)"
   ]
  },
  {
   "cell_type": "code",
   "execution_count": 9,
   "metadata": {
    "scrolled": true
   },
   "outputs": [
    {
     "data": {
      "text/plain": [
       "Random          1520\n",
       "Id              1520\n",
       "Indication      1517\n",
       "Diabetes        1518\n",
       "IHD             1520\n",
       "Hypertension    1517\n",
       "Arrhythmia      1520\n",
       "History         1518\n",
       "IPSI            1516\n",
       "Contra          1520\n",
       "label           1515\n",
       "dtype: int64"
      ]
     },
     "execution_count": 9,
     "metadata": {},
     "output_type": "execute_result"
    }
   ],
   "source": [
    "#Check how many values exist\n",
    "data.count()"
   ]
  },
  {
   "cell_type": "code",
   "execution_count": 10,
   "metadata": {},
   "outputs": [
    {
     "data": {
      "text/html": [
       "<div>\n",
       "<style scoped>\n",
       "    .dataframe tbody tr th:only-of-type {\n",
       "        vertical-align: middle;\n",
       "    }\n",
       "\n",
       "    .dataframe tbody tr th {\n",
       "        vertical-align: top;\n",
       "    }\n",
       "\n",
       "    .dataframe thead th {\n",
       "        text-align: right;\n",
       "    }\n",
       "</style>\n",
       "<table border=\"1\" class=\"dataframe\">\n",
       "  <thead>\n",
       "    <tr style=\"text-align: right;\">\n",
       "      <th></th>\n",
       "      <th>Indication</th>\n",
       "      <th>Diabetes</th>\n",
       "      <th>IHD</th>\n",
       "      <th>Hypertension</th>\n",
       "      <th>Arrhythmia</th>\n",
       "      <th>History</th>\n",
       "      <th>IPSI</th>\n",
       "      <th>Contra</th>\n",
       "      <th>label</th>\n",
       "    </tr>\n",
       "  </thead>\n",
       "  <tbody>\n",
       "    <tr>\n",
       "      <th>0</th>\n",
       "      <td>A-F</td>\n",
       "      <td>no</td>\n",
       "      <td>no</td>\n",
       "      <td>yes</td>\n",
       "      <td>no</td>\n",
       "      <td>no</td>\n",
       "      <td>78.0</td>\n",
       "      <td>20</td>\n",
       "      <td>NoRisk</td>\n",
       "    </tr>\n",
       "    <tr>\n",
       "      <th>1</th>\n",
       "      <td>TIA</td>\n",
       "      <td>no</td>\n",
       "      <td>no</td>\n",
       "      <td>no</td>\n",
       "      <td>no</td>\n",
       "      <td>no</td>\n",
       "      <td>70.0</td>\n",
       "      <td>60</td>\n",
       "      <td>NoRisk</td>\n",
       "    </tr>\n",
       "    <tr>\n",
       "      <th>2</th>\n",
       "      <td>A-F</td>\n",
       "      <td>no</td>\n",
       "      <td>yes</td>\n",
       "      <td>yes</td>\n",
       "      <td>no</td>\n",
       "      <td>no</td>\n",
       "      <td>95.0</td>\n",
       "      <td>40</td>\n",
       "      <td>Risk</td>\n",
       "    </tr>\n",
       "    <tr>\n",
       "      <th>3</th>\n",
       "      <td>TIA</td>\n",
       "      <td>no</td>\n",
       "      <td>no</td>\n",
       "      <td>yes</td>\n",
       "      <td>no</td>\n",
       "      <td>no</td>\n",
       "      <td>90.0</td>\n",
       "      <td>85</td>\n",
       "      <td>Risk</td>\n",
       "    </tr>\n",
       "    <tr>\n",
       "      <th>4</th>\n",
       "      <td>CVA</td>\n",
       "      <td>no</td>\n",
       "      <td>no</td>\n",
       "      <td>no</td>\n",
       "      <td>no</td>\n",
       "      <td>no</td>\n",
       "      <td>70.0</td>\n",
       "      <td>20</td>\n",
       "      <td>NoRisk</td>\n",
       "    </tr>\n",
       "  </tbody>\n",
       "</table>\n",
       "</div>"
      ],
      "text/plain": [
       "  Indication Diabetes  IHD Hypertension Arrhythmia History  IPSI Contra  \\\n",
       "0        A-F       no   no          yes         no      no  78.0    20    \n",
       "1        TIA       no   no           no         no      no  70.0    60    \n",
       "2        A-F       no  yes          yes         no      no  95.0     40   \n",
       "3        TIA       no   no          yes         no      no  90.0     85   \n",
       "4        CVA       no   no           no         no      no  70.0    20    \n",
       "\n",
       "    label  \n",
       "0  NoRisk  \n",
       "1  NoRisk  \n",
       "2    Risk  \n",
       "3    Risk  \n",
       "4  NoRisk  "
      ]
     },
     "execution_count": 10,
     "metadata": {},
     "output_type": "execute_result"
    }
   ],
   "source": [
    "#Create a list that only includes the column data for Random and Id\n",
    "del_col_list = ['Random', 'Id']\n",
    "\n",
    "#Create a new dataframe without random and ID\n",
    "clean_data = data.drop(del_col_list, axis=1)\n",
    "clean_data.head()"
   ]
  },
  {
   "cell_type": "code",
   "execution_count": 11,
   "metadata": {},
   "outputs": [],
   "source": [
    "#Convert all values of the Contra column to numeric values\n",
    "#any blank values found will be converted to NaN\n",
    "\n",
    "clean_data[\"Contra\"] = pd.to_numeric(clean_data[\"Contra\"], errors=\"coerce\")"
   ]
  },
  {
   "cell_type": "code",
   "execution_count": 12,
   "metadata": {},
   "outputs": [
    {
     "data": {
      "text/html": [
       "<div>\n",
       "<style scoped>\n",
       "    .dataframe tbody tr th:only-of-type {\n",
       "        vertical-align: middle;\n",
       "    }\n",
       "\n",
       "    .dataframe tbody tr th {\n",
       "        vertical-align: top;\n",
       "    }\n",
       "\n",
       "    .dataframe thead th {\n",
       "        text-align: right;\n",
       "    }\n",
       "</style>\n",
       "<table border=\"1\" class=\"dataframe\">\n",
       "  <thead>\n",
       "    <tr style=\"text-align: right;\">\n",
       "      <th></th>\n",
       "      <th>Indication</th>\n",
       "      <th>Diabetes</th>\n",
       "      <th>IHD</th>\n",
       "      <th>Hypertension</th>\n",
       "      <th>Arrhythmia</th>\n",
       "      <th>History</th>\n",
       "      <th>IPSI</th>\n",
       "      <th>Contra</th>\n",
       "      <th>label</th>\n",
       "    </tr>\n",
       "  </thead>\n",
       "  <tbody>\n",
       "    <tr>\n",
       "      <th>201</th>\n",
       "      <td>CVA</td>\n",
       "      <td>yes</td>\n",
       "      <td>no</td>\n",
       "      <td>NaN</td>\n",
       "      <td>yes</td>\n",
       "      <td>no</td>\n",
       "      <td>95.0</td>\n",
       "      <td>90.0</td>\n",
       "      <td>Risk</td>\n",
       "    </tr>\n",
       "    <tr>\n",
       "      <th>337</th>\n",
       "      <td>CVA</td>\n",
       "      <td>no</td>\n",
       "      <td>yes</td>\n",
       "      <td>no</td>\n",
       "      <td>no</td>\n",
       "      <td>NaN</td>\n",
       "      <td>85.0</td>\n",
       "      <td>50.0</td>\n",
       "      <td>NoRisk</td>\n",
       "    </tr>\n",
       "    <tr>\n",
       "      <th>442</th>\n",
       "      <td>NaN</td>\n",
       "      <td>no</td>\n",
       "      <td>yes</td>\n",
       "      <td>yes</td>\n",
       "      <td>no</td>\n",
       "      <td>no</td>\n",
       "      <td>70.0</td>\n",
       "      <td>40.0</td>\n",
       "      <td>NoRisk</td>\n",
       "    </tr>\n",
       "    <tr>\n",
       "      <th>447</th>\n",
       "      <td>CVA</td>\n",
       "      <td>NaN</td>\n",
       "      <td>yes</td>\n",
       "      <td>yes</td>\n",
       "      <td>yes</td>\n",
       "      <td>no</td>\n",
       "      <td>90.0</td>\n",
       "      <td>100.0</td>\n",
       "      <td>Risk</td>\n",
       "    </tr>\n",
       "    <tr>\n",
       "      <th>453</th>\n",
       "      <td>ASx</td>\n",
       "      <td>no</td>\n",
       "      <td>no</td>\n",
       "      <td>yes</td>\n",
       "      <td>no</td>\n",
       "      <td>no</td>\n",
       "      <td>70.0</td>\n",
       "      <td>NaN</td>\n",
       "      <td>NoRisk</td>\n",
       "    </tr>\n",
       "    <tr>\n",
       "      <th>475</th>\n",
       "      <td>ASx</td>\n",
       "      <td>no</td>\n",
       "      <td>yes</td>\n",
       "      <td>yes</td>\n",
       "      <td>no</td>\n",
       "      <td>no</td>\n",
       "      <td>70.0</td>\n",
       "      <td>55.0</td>\n",
       "      <td>NaN</td>\n",
       "    </tr>\n",
       "    <tr>\n",
       "      <th>514</th>\n",
       "      <td>A-F</td>\n",
       "      <td>NaN</td>\n",
       "      <td>no</td>\n",
       "      <td>yes</td>\n",
       "      <td>no</td>\n",
       "      <td>no</td>\n",
       "      <td>80.0</td>\n",
       "      <td>40.0</td>\n",
       "      <td>NoRisk</td>\n",
       "    </tr>\n",
       "    <tr>\n",
       "      <th>523</th>\n",
       "      <td>CVA</td>\n",
       "      <td>no</td>\n",
       "      <td>no</td>\n",
       "      <td>yes</td>\n",
       "      <td>yes</td>\n",
       "      <td>no</td>\n",
       "      <td>95.0</td>\n",
       "      <td>100.0</td>\n",
       "      <td>NaN</td>\n",
       "    </tr>\n",
       "    <tr>\n",
       "      <th>590</th>\n",
       "      <td>A-F</td>\n",
       "      <td>no</td>\n",
       "      <td>no</td>\n",
       "      <td>NaN</td>\n",
       "      <td>no</td>\n",
       "      <td>no</td>\n",
       "      <td>78.0</td>\n",
       "      <td>30.0</td>\n",
       "      <td>NoRisk</td>\n",
       "    </tr>\n",
       "    <tr>\n",
       "      <th>620</th>\n",
       "      <td>A-F</td>\n",
       "      <td>no</td>\n",
       "      <td>no</td>\n",
       "      <td>no</td>\n",
       "      <td>no</td>\n",
       "      <td>no</td>\n",
       "      <td>NaN</td>\n",
       "      <td>100.0</td>\n",
       "      <td>Risk</td>\n",
       "    </tr>\n",
       "    <tr>\n",
       "      <th>752</th>\n",
       "      <td>CVA</td>\n",
       "      <td>no</td>\n",
       "      <td>yes</td>\n",
       "      <td>yes</td>\n",
       "      <td>yes</td>\n",
       "      <td>no</td>\n",
       "      <td>NaN</td>\n",
       "      <td>100.0</td>\n",
       "      <td>Risk</td>\n",
       "    </tr>\n",
       "    <tr>\n",
       "      <th>784</th>\n",
       "      <td>CVA</td>\n",
       "      <td>no</td>\n",
       "      <td>no</td>\n",
       "      <td>yes</td>\n",
       "      <td>yes</td>\n",
       "      <td>NaN</td>\n",
       "      <td>95.0</td>\n",
       "      <td>100.0</td>\n",
       "      <td>Risk</td>\n",
       "    </tr>\n",
       "    <tr>\n",
       "      <th>812</th>\n",
       "      <td>CVA</td>\n",
       "      <td>no</td>\n",
       "      <td>yes</td>\n",
       "      <td>yes</td>\n",
       "      <td>no</td>\n",
       "      <td>no</td>\n",
       "      <td>76.0</td>\n",
       "      <td>50.0</td>\n",
       "      <td>NaN</td>\n",
       "    </tr>\n",
       "    <tr>\n",
       "      <th>822</th>\n",
       "      <td>NaN</td>\n",
       "      <td>no</td>\n",
       "      <td>yes</td>\n",
       "      <td>no</td>\n",
       "      <td>no</td>\n",
       "      <td>no</td>\n",
       "      <td>80.0</td>\n",
       "      <td>100.0</td>\n",
       "      <td>Risk</td>\n",
       "    </tr>\n",
       "    <tr>\n",
       "      <th>845</th>\n",
       "      <td>CVA</td>\n",
       "      <td>no</td>\n",
       "      <td>no</td>\n",
       "      <td>no</td>\n",
       "      <td>no</td>\n",
       "      <td>no</td>\n",
       "      <td>NaN</td>\n",
       "      <td>20.0</td>\n",
       "      <td>NoRisk</td>\n",
       "    </tr>\n",
       "    <tr>\n",
       "      <th>916</th>\n",
       "      <td>A-F</td>\n",
       "      <td>no</td>\n",
       "      <td>no</td>\n",
       "      <td>no</td>\n",
       "      <td>no</td>\n",
       "      <td>no</td>\n",
       "      <td>NaN</td>\n",
       "      <td>50.0</td>\n",
       "      <td>NoRisk</td>\n",
       "    </tr>\n",
       "    <tr>\n",
       "      <th>974</th>\n",
       "      <td>CVA</td>\n",
       "      <td>no</td>\n",
       "      <td>yes</td>\n",
       "      <td>yes</td>\n",
       "      <td>yes</td>\n",
       "      <td>no</td>\n",
       "      <td>80.0</td>\n",
       "      <td>70.0</td>\n",
       "      <td>NaN</td>\n",
       "    </tr>\n",
       "    <tr>\n",
       "      <th>983</th>\n",
       "      <td>TIA</td>\n",
       "      <td>no</td>\n",
       "      <td>no</td>\n",
       "      <td>NaN</td>\n",
       "      <td>no</td>\n",
       "      <td>no</td>\n",
       "      <td>75.0</td>\n",
       "      <td>75.0</td>\n",
       "      <td>NoRisk</td>\n",
       "    </tr>\n",
       "    <tr>\n",
       "      <th>1007</th>\n",
       "      <td>NaN</td>\n",
       "      <td>no</td>\n",
       "      <td>no</td>\n",
       "      <td>no</td>\n",
       "      <td>yes</td>\n",
       "      <td>yes</td>\n",
       "      <td>99.0</td>\n",
       "      <td>100.0</td>\n",
       "      <td>Risk</td>\n",
       "    </tr>\n",
       "    <tr>\n",
       "      <th>1418</th>\n",
       "      <td>TIA</td>\n",
       "      <td>yes</td>\n",
       "      <td>no</td>\n",
       "      <td>no</td>\n",
       "      <td>no</td>\n",
       "      <td>yes</td>\n",
       "      <td>90.0</td>\n",
       "      <td>50.0</td>\n",
       "      <td>NaN</td>\n",
       "    </tr>\n",
       "  </tbody>\n",
       "</table>\n",
       "</div>"
      ],
      "text/plain": [
       "     Indication Diabetes  IHD Hypertension Arrhythmia History  IPSI  Contra  \\\n",
       "201         CVA      yes   no          NaN        yes      no  95.0    90.0   \n",
       "337         CVA       no  yes           no         no     NaN  85.0    50.0   \n",
       "442         NaN       no  yes          yes         no      no  70.0    40.0   \n",
       "447         CVA      NaN  yes          yes        yes      no  90.0   100.0   \n",
       "453         ASx       no   no          yes         no      no  70.0     NaN   \n",
       "475         ASx       no  yes          yes         no      no  70.0    55.0   \n",
       "514         A-F      NaN   no          yes         no      no  80.0    40.0   \n",
       "523         CVA       no   no          yes        yes      no  95.0   100.0   \n",
       "590         A-F       no   no          NaN         no      no  78.0    30.0   \n",
       "620         A-F       no   no           no         no      no   NaN   100.0   \n",
       "752         CVA       no  yes          yes        yes      no   NaN   100.0   \n",
       "784         CVA       no   no          yes        yes     NaN  95.0   100.0   \n",
       "812         CVA       no  yes          yes         no      no  76.0    50.0   \n",
       "822         NaN       no  yes           no         no      no  80.0   100.0   \n",
       "845         CVA       no   no           no         no      no   NaN    20.0   \n",
       "916         A-F       no   no           no         no      no   NaN    50.0   \n",
       "974         CVA       no  yes          yes        yes      no  80.0    70.0   \n",
       "983         TIA       no   no          NaN         no      no  75.0    75.0   \n",
       "1007        NaN       no   no           no        yes     yes  99.0   100.0   \n",
       "1418        TIA      yes   no           no         no     yes  90.0    50.0   \n",
       "\n",
       "       label  \n",
       "201     Risk  \n",
       "337   NoRisk  \n",
       "442   NoRisk  \n",
       "447     Risk  \n",
       "453   NoRisk  \n",
       "475      NaN  \n",
       "514   NoRisk  \n",
       "523      NaN  \n",
       "590   NoRisk  \n",
       "620     Risk  \n",
       "752     Risk  \n",
       "784     Risk  \n",
       "812      NaN  \n",
       "822     Risk  \n",
       "845   NoRisk  \n",
       "916   NoRisk  \n",
       "974      NaN  \n",
       "983   NoRisk  \n",
       "1007    Risk  \n",
       "1418     NaN  "
      ]
     },
     "execution_count": 12,
     "metadata": {},
     "output_type": "execute_result"
    }
   ],
   "source": [
    "#Finding all values that contain null values\n",
    "null_data = clean_data[clean_data.isnull().any(axis=1)]\n",
    "null_data"
   ]
  },
  {
   "cell_type": "markdown",
   "metadata": {},
   "source": [
    "It's important to first check how much of a percentage these records are before deciding if it is worthwhile to categorically fill them or simply remove them"
   ]
  },
  {
   "cell_type": "code",
   "execution_count": 13,
   "metadata": {},
   "outputs": [
    {
     "data": {
      "text/plain": [
       "Indication      0.197368\n",
       "Diabetes        0.131579\n",
       "IHD             0.000000\n",
       "Hypertension    0.197368\n",
       "Arrhythmia      0.000000\n",
       "History         0.131579\n",
       "IPSI            0.263158\n",
       "Contra          0.065789\n",
       "label           0.328947\n",
       "dtype: float64"
      ]
     },
     "execution_count": 13,
     "metadata": {},
     "output_type": "execute_result"
    }
   ],
   "source": [
    "#percentage of missing values in the dataset\n",
    "null_data_percent = clean_data.isnull().sum() * 100 / len(clean_data)\n",
    "null_data_percent"
   ]
  },
  {
   "cell_type": "markdown",
   "metadata": {},
   "source": [
    "This shows the percentage of values that are missing is fairly insignificant and will probably have no impact on the dataset, so they are safe to remove."
   ]
  },
  {
   "cell_type": "code",
   "execution_count": 14,
   "metadata": {},
   "outputs": [
    {
     "data": {
      "text/plain": [
       "Indication      0\n",
       "Diabetes        0\n",
       "IHD             0\n",
       "Hypertension    0\n",
       "Arrhythmia      0\n",
       "History         0\n",
       "IPSI            0\n",
       "Contra          0\n",
       "label           0\n",
       "dtype: int64"
      ]
     },
     "execution_count": 14,
     "metadata": {},
     "output_type": "execute_result"
    }
   ],
   "source": [
    "#Drop all data values that are null\n",
    "clean_data = clean_data.dropna()\n",
    "clean_data.isnull().sum()"
   ]
  },
  {
   "cell_type": "markdown",
   "metadata": {},
   "source": [
    "The result shows there are no more null values present, and EDA can continue."
   ]
  },
  {
   "cell_type": "code",
   "execution_count": 15,
   "metadata": {},
   "outputs": [
    {
     "data": {
      "text/plain": [
       "Indication      1500\n",
       "Diabetes        1500\n",
       "IHD             1500\n",
       "Hypertension    1500\n",
       "Arrhythmia      1500\n",
       "History         1500\n",
       "IPSI            1500\n",
       "Contra          1500\n",
       "label           1500\n",
       "dtype: int64"
      ]
     },
     "execution_count": 15,
     "metadata": {},
     "output_type": "execute_result"
    }
   ],
   "source": [
    "#Perform a new count to check how many values are present after removal\n",
    "clean_data.count()"
   ]
  },
  {
   "cell_type": "code",
   "execution_count": 16,
   "metadata": {},
   "outputs": [
    {
     "data": {
      "text/html": [
       "<div>\n",
       "<style scoped>\n",
       "    .dataframe tbody tr th:only-of-type {\n",
       "        vertical-align: middle;\n",
       "    }\n",
       "\n",
       "    .dataframe tbody tr th {\n",
       "        vertical-align: top;\n",
       "    }\n",
       "\n",
       "    .dataframe thead th {\n",
       "        text-align: right;\n",
       "    }\n",
       "</style>\n",
       "<table border=\"1\" class=\"dataframe\">\n",
       "  <thead>\n",
       "    <tr style=\"text-align: right;\">\n",
       "      <th></th>\n",
       "      <th>IPSI</th>\n",
       "      <th>Contra</th>\n",
       "    </tr>\n",
       "  </thead>\n",
       "  <tbody>\n",
       "    <tr>\n",
       "      <th>count</th>\n",
       "      <td>1500.000000</td>\n",
       "      <td>1500.000000</td>\n",
       "    </tr>\n",
       "    <tr>\n",
       "      <th>mean</th>\n",
       "      <td>78.828000</td>\n",
       "      <td>56.668000</td>\n",
       "    </tr>\n",
       "    <tr>\n",
       "      <th>std</th>\n",
       "      <td>10.159555</td>\n",
       "      <td>29.524977</td>\n",
       "    </tr>\n",
       "    <tr>\n",
       "      <th>min</th>\n",
       "      <td>35.000000</td>\n",
       "      <td>10.000000</td>\n",
       "    </tr>\n",
       "    <tr>\n",
       "      <th>25%</th>\n",
       "      <td>73.000000</td>\n",
       "      <td>30.000000</td>\n",
       "    </tr>\n",
       "    <tr>\n",
       "      <th>50%</th>\n",
       "      <td>77.000000</td>\n",
       "      <td>50.000000</td>\n",
       "    </tr>\n",
       "    <tr>\n",
       "      <th>75%</th>\n",
       "      <td>85.000000</td>\n",
       "      <td>85.000000</td>\n",
       "    </tr>\n",
       "    <tr>\n",
       "      <th>max</th>\n",
       "      <td>99.000000</td>\n",
       "      <td>100.000000</td>\n",
       "    </tr>\n",
       "  </tbody>\n",
       "</table>\n",
       "</div>"
      ],
      "text/plain": [
       "              IPSI       Contra\n",
       "count  1500.000000  1500.000000\n",
       "mean     78.828000    56.668000\n",
       "std      10.159555    29.524977\n",
       "min      35.000000    10.000000\n",
       "25%      73.000000    30.000000\n",
       "50%      77.000000    50.000000\n",
       "75%      85.000000    85.000000\n",
       "max      99.000000   100.000000"
      ]
     },
     "execution_count": 16,
     "metadata": {},
     "output_type": "execute_result"
    }
   ],
   "source": [
    "clean_data.describe()"
   ]
  },
  {
   "cell_type": "code",
   "execution_count": 17,
   "metadata": {
    "scrolled": true
   },
   "outputs": [
    {
     "data": {
      "text/plain": [
       "A-F    489\n",
       "CVA    407\n",
       "TIA    388\n",
       "ASx    184\n",
       "Asx     32\n",
       "Name: Indication, dtype: int64"
      ]
     },
     "execution_count": 17,
     "metadata": {},
     "output_type": "execute_result"
    }
   ],
   "source": [
    "#Indication column has 4 expected values, lets check them\n",
    "clean_data[\"Indication\"].value_counts()"
   ]
  },
  {
   "cell_type": "markdown",
   "metadata": {},
   "source": [
    "There are values present with ASx and Asx. Since the majority here are ASx, lets replace the other values so we are back to only 4 expected values, as per the Data Description document."
   ]
  },
  {
   "cell_type": "code",
   "execution_count": 18,
   "metadata": {
    "scrolled": true
   },
   "outputs": [
    {
     "data": {
      "text/plain": [
       "A-F    489\n",
       "CVA    407\n",
       "TIA    388\n",
       "ASx    216\n",
       "Name: Indication, dtype: int64"
      ]
     },
     "execution_count": 18,
     "metadata": {},
     "output_type": "execute_result"
    }
   ],
   "source": [
    "#Replace all values with Asx to ASx to match majority of values in the dataframe\n",
    "clean_data[\"Indication\"] = clean_data[\"Indication\"].replace(\"Asx\", \"ASx\")\n",
    "clean_data[\"Indication\"].value_counts()"
   ]
  },
  {
   "cell_type": "code",
   "execution_count": 19,
   "metadata": {},
   "outputs": [
    {
     "data": {
      "text/plain": [
       "NoRisk    1000\n",
       "Risk       500\n",
       "Name: label, dtype: int64"
      ]
     },
     "execution_count": 19,
     "metadata": {},
     "output_type": "execute_result"
    }
   ],
   "source": [
    "#Run a check to make sure the label column only has risk and no risk\n",
    "clean_data[\"label\"].value_counts()"
   ]
  },
  {
   "cell_type": "markdown",
   "metadata": {},
   "source": [
    "As this point, the data has been cleaned."
   ]
  },
  {
   "cell_type": "code",
   "execution_count": 20,
   "metadata": {},
   "outputs": [],
   "source": [
    "#Create a dummy for the column label to better visualise risk vs no risk\n",
    "clean_data_risk = pd.get_dummies(clean_data[\"label\"])\n",
    "#clean_data_indication = pd.get_dummies(clean_data[\"Indication\"])"
   ]
  },
  {
   "cell_type": "code",
   "execution_count": 21,
   "metadata": {
    "scrolled": true
   },
   "outputs": [
    {
     "data": {
      "text/html": [
       "<div>\n",
       "<style scoped>\n",
       "    .dataframe tbody tr th:only-of-type {\n",
       "        vertical-align: middle;\n",
       "    }\n",
       "\n",
       "    .dataframe tbody tr th {\n",
       "        vertical-align: top;\n",
       "    }\n",
       "\n",
       "    .dataframe thead th {\n",
       "        text-align: right;\n",
       "    }\n",
       "</style>\n",
       "<table border=\"1\" class=\"dataframe\">\n",
       "  <thead>\n",
       "    <tr style=\"text-align: right;\">\n",
       "      <th></th>\n",
       "      <th>Indication</th>\n",
       "      <th>Diabetes</th>\n",
       "      <th>IHD</th>\n",
       "      <th>Hypertension</th>\n",
       "      <th>Arrhythmia</th>\n",
       "      <th>History</th>\n",
       "      <th>IPSI</th>\n",
       "      <th>Contra</th>\n",
       "      <th>label</th>\n",
       "      <th>NoRisk</th>\n",
       "      <th>Risk</th>\n",
       "    </tr>\n",
       "  </thead>\n",
       "  <tbody>\n",
       "    <tr>\n",
       "      <th>0</th>\n",
       "      <td>A-F</td>\n",
       "      <td>no</td>\n",
       "      <td>no</td>\n",
       "      <td>yes</td>\n",
       "      <td>no</td>\n",
       "      <td>no</td>\n",
       "      <td>78.0</td>\n",
       "      <td>20.0</td>\n",
       "      <td>NoRisk</td>\n",
       "      <td>1</td>\n",
       "      <td>0</td>\n",
       "    </tr>\n",
       "    <tr>\n",
       "      <th>1</th>\n",
       "      <td>TIA</td>\n",
       "      <td>no</td>\n",
       "      <td>no</td>\n",
       "      <td>no</td>\n",
       "      <td>no</td>\n",
       "      <td>no</td>\n",
       "      <td>70.0</td>\n",
       "      <td>60.0</td>\n",
       "      <td>NoRisk</td>\n",
       "      <td>1</td>\n",
       "      <td>0</td>\n",
       "    </tr>\n",
       "    <tr>\n",
       "      <th>2</th>\n",
       "      <td>A-F</td>\n",
       "      <td>no</td>\n",
       "      <td>yes</td>\n",
       "      <td>yes</td>\n",
       "      <td>no</td>\n",
       "      <td>no</td>\n",
       "      <td>95.0</td>\n",
       "      <td>40.0</td>\n",
       "      <td>Risk</td>\n",
       "      <td>0</td>\n",
       "      <td>1</td>\n",
       "    </tr>\n",
       "    <tr>\n",
       "      <th>3</th>\n",
       "      <td>TIA</td>\n",
       "      <td>no</td>\n",
       "      <td>no</td>\n",
       "      <td>yes</td>\n",
       "      <td>no</td>\n",
       "      <td>no</td>\n",
       "      <td>90.0</td>\n",
       "      <td>85.0</td>\n",
       "      <td>Risk</td>\n",
       "      <td>0</td>\n",
       "      <td>1</td>\n",
       "    </tr>\n",
       "    <tr>\n",
       "      <th>4</th>\n",
       "      <td>CVA</td>\n",
       "      <td>no</td>\n",
       "      <td>no</td>\n",
       "      <td>no</td>\n",
       "      <td>no</td>\n",
       "      <td>no</td>\n",
       "      <td>70.0</td>\n",
       "      <td>20.0</td>\n",
       "      <td>NoRisk</td>\n",
       "      <td>1</td>\n",
       "      <td>0</td>\n",
       "    </tr>\n",
       "  </tbody>\n",
       "</table>\n",
       "</div>"
      ],
      "text/plain": [
       "  Indication Diabetes  IHD Hypertension Arrhythmia History  IPSI  Contra  \\\n",
       "0        A-F       no   no          yes         no      no  78.0    20.0   \n",
       "1        TIA       no   no           no         no      no  70.0    60.0   \n",
       "2        A-F       no  yes          yes         no      no  95.0    40.0   \n",
       "3        TIA       no   no          yes         no      no  90.0    85.0   \n",
       "4        CVA       no   no           no         no      no  70.0    20.0   \n",
       "\n",
       "    label  NoRisk  Risk  \n",
       "0  NoRisk       1     0  \n",
       "1  NoRisk       1     0  \n",
       "2    Risk       0     1  \n",
       "3    Risk       0     1  \n",
       "4  NoRisk       1     0  "
      ]
     },
     "execution_count": 21,
     "metadata": {},
     "output_type": "execute_result"
    }
   ],
   "source": [
    "#Add the dummy variable we created to the end of our current table\n",
    "clean_data = pd.concat([clean_data, clean_data_risk], axis=1)\n",
    "#clean_data = pd.concat([clean_data, clean_data_indication],axis=1)\n",
    "clean_data.head()\n",
    "\n",
    "#Warning.. running this more than once will create duplicated dummy variables in the dataframe"
   ]
  },
  {
   "cell_type": "markdown",
   "metadata": {},
   "source": [
    "This presents a small problem of duplication, for the time being a new table can be created which will not include the label column, but the original table will be kept"
   ]
  },
  {
   "cell_type": "code",
   "execution_count": 22,
   "metadata": {
    "scrolled": true
   },
   "outputs": [
    {
     "data": {
      "text/html": [
       "<div>\n",
       "<style scoped>\n",
       "    .dataframe tbody tr th:only-of-type {\n",
       "        vertical-align: middle;\n",
       "    }\n",
       "\n",
       "    .dataframe tbody tr th {\n",
       "        vertical-align: top;\n",
       "    }\n",
       "\n",
       "    .dataframe thead th {\n",
       "        text-align: right;\n",
       "    }\n",
       "</style>\n",
       "<table border=\"1\" class=\"dataframe\">\n",
       "  <thead>\n",
       "    <tr style=\"text-align: right;\">\n",
       "      <th></th>\n",
       "      <th>Indication</th>\n",
       "      <th>Diabetes</th>\n",
       "      <th>IHD</th>\n",
       "      <th>Hypertension</th>\n",
       "      <th>Arrhythmia</th>\n",
       "      <th>History</th>\n",
       "      <th>IPSI</th>\n",
       "      <th>Contra</th>\n",
       "      <th>NoRisk</th>\n",
       "      <th>Risk</th>\n",
       "    </tr>\n",
       "  </thead>\n",
       "  <tbody>\n",
       "    <tr>\n",
       "      <th>0</th>\n",
       "      <td>A-F</td>\n",
       "      <td>no</td>\n",
       "      <td>no</td>\n",
       "      <td>yes</td>\n",
       "      <td>no</td>\n",
       "      <td>no</td>\n",
       "      <td>78.0</td>\n",
       "      <td>20.0</td>\n",
       "      <td>1</td>\n",
       "      <td>0</td>\n",
       "    </tr>\n",
       "    <tr>\n",
       "      <th>1</th>\n",
       "      <td>TIA</td>\n",
       "      <td>no</td>\n",
       "      <td>no</td>\n",
       "      <td>no</td>\n",
       "      <td>no</td>\n",
       "      <td>no</td>\n",
       "      <td>70.0</td>\n",
       "      <td>60.0</td>\n",
       "      <td>1</td>\n",
       "      <td>0</td>\n",
       "    </tr>\n",
       "    <tr>\n",
       "      <th>2</th>\n",
       "      <td>A-F</td>\n",
       "      <td>no</td>\n",
       "      <td>yes</td>\n",
       "      <td>yes</td>\n",
       "      <td>no</td>\n",
       "      <td>no</td>\n",
       "      <td>95.0</td>\n",
       "      <td>40.0</td>\n",
       "      <td>0</td>\n",
       "      <td>1</td>\n",
       "    </tr>\n",
       "    <tr>\n",
       "      <th>3</th>\n",
       "      <td>TIA</td>\n",
       "      <td>no</td>\n",
       "      <td>no</td>\n",
       "      <td>yes</td>\n",
       "      <td>no</td>\n",
       "      <td>no</td>\n",
       "      <td>90.0</td>\n",
       "      <td>85.0</td>\n",
       "      <td>0</td>\n",
       "      <td>1</td>\n",
       "    </tr>\n",
       "    <tr>\n",
       "      <th>4</th>\n",
       "      <td>CVA</td>\n",
       "      <td>no</td>\n",
       "      <td>no</td>\n",
       "      <td>no</td>\n",
       "      <td>no</td>\n",
       "      <td>no</td>\n",
       "      <td>70.0</td>\n",
       "      <td>20.0</td>\n",
       "      <td>1</td>\n",
       "      <td>0</td>\n",
       "    </tr>\n",
       "  </tbody>\n",
       "</table>\n",
       "</div>"
      ],
      "text/plain": [
       "  Indication Diabetes  IHD Hypertension Arrhythmia History  IPSI  Contra  \\\n",
       "0        A-F       no   no          yes         no      no  78.0    20.0   \n",
       "1        TIA       no   no           no         no      no  70.0    60.0   \n",
       "2        A-F       no  yes          yes         no      no  95.0    40.0   \n",
       "3        TIA       no   no          yes         no      no  90.0    85.0   \n",
       "4        CVA       no   no           no         no      no  70.0    20.0   \n",
       "\n",
       "   NoRisk  Risk  \n",
       "0       1     0  \n",
       "1       1     0  \n",
       "2       0     1  \n",
       "3       0     1  \n",
       "4       1     0  "
      ]
     },
     "execution_count": 22,
     "metadata": {},
     "output_type": "execute_result"
    }
   ],
   "source": [
    "#Create a new variable for the label column\n",
    "clean_data_label = [\"label\"]\n",
    "\n",
    "#Create a new dataframe, and then drop the label column using the variable created above\n",
    "clean_data_dummy = clean_data.drop(clean_data_label, axis=1)\n",
    "clean_data_dummy.head()"
   ]
  },
  {
   "cell_type": "markdown",
   "metadata": {},
   "source": [
    "## Visualising the data"
   ]
  },
  {
   "cell_type": "code",
   "execution_count": 23,
   "metadata": {
    "scrolled": true
   },
   "outputs": [
    {
     "data": {
      "image/png": "[encoded data removed]",
      "text/plain": [
       "<Figure size 428.375x360 with 1 Axes>"
      ]
     },
     "metadata": {},
     "output_type": "display_data"
    }
   ],
   "source": [
    "sns.set_style(\"whitegrid\")\n",
    "vis4 = sns.catplot(x=\"Indication\", hue=\"label\", data=clean_data, kind=\"count\")"
   ]
  },
  {
   "cell_type": "code",
   "execution_count": 24,
   "metadata": {
    "scrolled": true
   },
   "outputs": [
    {
     "data": {
      "text/html": [
       "<div>\n",
       "<style scoped>\n",
       "    .dataframe tbody tr th:only-of-type {\n",
       "        vertical-align: middle;\n",
       "    }\n",
       "\n",
       "    .dataframe tbody tr th {\n",
       "        vertical-align: top;\n",
       "    }\n",
       "\n",
       "    .dataframe thead th {\n",
       "        text-align: right;\n",
       "    }\n",
       "</style>\n",
       "<table border=\"1\" class=\"dataframe\">\n",
       "  <thead>\n",
       "    <tr style=\"text-align: right;\">\n",
       "      <th></th>\n",
       "      <th></th>\n",
       "      <th></th>\n",
       "      <th>IPSI</th>\n",
       "      <th>Contra</th>\n",
       "    </tr>\n",
       "    <tr>\n",
       "      <th>Indication</th>\n",
       "      <th>Risk</th>\n",
       "      <th>NoRisk</th>\n",
       "      <th></th>\n",
       "      <th></th>\n",
       "    </tr>\n",
       "  </thead>\n",
       "  <tbody>\n",
       "    <tr>\n",
       "      <th rowspan=\"2\" valign=\"top\">A-F</th>\n",
       "      <th>0</th>\n",
       "      <th>1</th>\n",
       "      <td>76.452962</td>\n",
       "      <td>39.233449</td>\n",
       "    </tr>\n",
       "    <tr>\n",
       "      <th>1</th>\n",
       "      <th>0</th>\n",
       "      <td>87.559406</td>\n",
       "      <td>81.267327</td>\n",
       "    </tr>\n",
       "    <tr>\n",
       "      <th rowspan=\"2\" valign=\"top\">ASx</th>\n",
       "      <th>0</th>\n",
       "      <th>1</th>\n",
       "      <td>78.151786</td>\n",
       "      <td>35.705357</td>\n",
       "    </tr>\n",
       "    <tr>\n",
       "      <th>1</th>\n",
       "      <th>0</th>\n",
       "      <td>82.788462</td>\n",
       "      <td>82.259615</td>\n",
       "    </tr>\n",
       "    <tr>\n",
       "      <th rowspan=\"2\" valign=\"top\">CVA</th>\n",
       "      <th>0</th>\n",
       "      <th>1</th>\n",
       "      <td>74.877256</td>\n",
       "      <td>46.028881</td>\n",
       "    </tr>\n",
       "    <tr>\n",
       "      <th>1</th>\n",
       "      <th>0</th>\n",
       "      <td>85.969231</td>\n",
       "      <td>88.038462</td>\n",
       "    </tr>\n",
       "    <tr>\n",
       "      <th rowspan=\"2\" valign=\"top\">TIA</th>\n",
       "      <th>0</th>\n",
       "      <th>1</th>\n",
       "      <td>73.669753</td>\n",
       "      <td>46.595679</td>\n",
       "    </tr>\n",
       "    <tr>\n",
       "      <th>1</th>\n",
       "      <th>0</th>\n",
       "      <td>85.375000</td>\n",
       "      <td>85.625000</td>\n",
       "    </tr>\n",
       "  </tbody>\n",
       "</table>\n",
       "</div>"
      ],
      "text/plain": [
       "                             IPSI     Contra\n",
       "Indication Risk NoRisk                      \n",
       "A-F        0    1       76.452962  39.233449\n",
       "           1    0       87.559406  81.267327\n",
       "ASx        0    1       78.151786  35.705357\n",
       "           1    0       82.788462  82.259615\n",
       "CVA        0    1       74.877256  46.028881\n",
       "           1    0       85.969231  88.038462\n",
       "TIA        0    1       73.669753  46.595679\n",
       "           1    0       85.375000  85.625000"
      ]
     },
     "execution_count": 24,
     "metadata": {},
     "output_type": "execute_result"
    }
   ],
   "source": [
    "clean_data_dummy.groupby([\"Indication\", \"Risk\", \"NoRisk\"]).mean()"
   ]
  },
  {
   "cell_type": "code",
   "execution_count": 25,
   "metadata": {
    "scrolled": false
   },
   "outputs": [
    {
     "data": {
      "image/png": "[encoded data removed]",
      "text/plain": [
       "<Figure size 720x720 with 20 Axes>"
      ]
     },
     "metadata": {},
     "output_type": "display_data"
    }
   ],
   "source": [
    "medical = clean_data_dummy\n",
    "g = sns.pairplot(medical)"
   ]
  },
  {
   "cell_type": "code",
   "execution_count": 26,
   "metadata": {
    "scrolled": true
   },
   "outputs": [
    {
     "data": {
      "image/png": "[encoded data removed]",
      "text/plain": [
       "<Figure size 432x288 with 2 Axes>"
      ]
     },
     "metadata": {},
     "output_type": "display_data"
    }
   ],
   "source": [
    "sns.heatmap(clean_data_dummy.corr(), annot=True, fmt=\".2f\")\n",
    "plt.show()"
   ]
  },
  {
   "cell_type": "code",
   "execution_count": 27,
   "metadata": {},
   "outputs": [],
   "source": [
    "#clean_data_with_dummies[clean_data_with_dummies[\"Indication\"] == \"A-F\"] "
   ]
  },
  {
   "cell_type": "code",
   "execution_count": 28,
   "metadata": {},
   "outputs": [],
   "source": [
    "#dummies = pd.get_dummies(clean_data_dummy, columns= [\"Diabetes\", \"IHD\", \"Hypertension\",\\\n",
    "#                                                            \"Arrhythmia\",\"History\"])\n",
    "#dummies.head()"
   ]
  },
  {
   "cell_type": "code",
   "execution_count": 29,
   "metadata": {},
   "outputs": [
    {
     "data": {
      "image/png": "[encoded data removed]",
      "text/plain": [
       "<Figure size 432x288 with 1 Axes>"
      ]
     },
     "metadata": {},
     "output_type": "display_data"
    }
   ],
   "source": [
    "sns.distplot(clean_data[\"IPSI\"], bins = 15)\n",
    "plt.show()"
   ]
  },
  {
   "cell_type": "code",
   "execution_count": 30,
   "metadata": {},
   "outputs": [
    {
     "data": {
      "image/png": "[encoded data removed]",
      "text/plain": [
       "<Figure size 432x288 with 1 Axes>"
      ]
     },
     "metadata": {},
     "output_type": "display_data"
    }
   ],
   "source": [
    "sns.distplot(clean_data[\"Contra\"], bins = 15)\n",
    "plt.show()"
   ]
  },
  {
   "cell_type": "code",
   "execution_count": 31,
   "metadata": {},
   "outputs": [
    {
     "data": {
      "text/plain": [
       "<matplotlib.axes._subplots.AxesSubplot at 0x1849d8573c8>"
      ]
     },
     "execution_count": 31,
     "metadata": {},
     "output_type": "execute_result"
    },
    {
     "data": {
      "image/png": "[encoded data removed]",
      "text/plain": [
       "<Figure size 432x288 with 1 Axes>"
      ]
     },
     "metadata": {},
     "output_type": "display_data"
    }
   ],
   "source": [
    "sns.boxplot(x = clean_data[\"IPSI\"], y = clean_data[\"label\"])"
   ]
  },
  {
   "cell_type": "code",
   "execution_count": 32,
   "metadata": {},
   "outputs": [
    {
     "data": {
      "text/plain": [
       "<matplotlib.axes._subplots.AxesSubplot at 0x1849c7a3a90>"
      ]
     },
     "execution_count": 32,
     "metadata": {},
     "output_type": "execute_result"
    },
    {
     "data": {
      "image/png": "[encoded data removed]",
      "text/plain": [
       "<Figure size 432x288 with 1 Axes>"
      ]
     },
     "metadata": {},
     "output_type": "display_data"
    }
   ],
   "source": [
    "sns.boxplot(x = clean_data[\"Contra\"], y = clean_data[\"label\"])"
   ]
  },
  {
   "cell_type": "code",
   "execution_count": 33,
   "metadata": {},
   "outputs": [
    {
     "data": {
      "text/plain": [
       "<matplotlib.axes._subplots.AxesSubplot at 0x1849d82a358>"
      ]
     },
     "execution_count": 33,
     "metadata": {},
     "output_type": "execute_result"
    },
    {
     "data": {
      "image/png": "[encoded data removed]",
      "text/plain": [
       "<Figure size 432x288 with 1 Axes>"
      ]
     },
     "metadata": {},
     "output_type": "display_data"
    }
   ],
   "source": [
    "sns.boxplot(x = clean_data[\"IPSI\"], y = clean_data[\"Indication\"])"
   ]
  },
  {
   "cell_type": "code",
   "execution_count": 34,
   "metadata": {},
   "outputs": [
    {
     "data": {
      "text/plain": [
       "<matplotlib.axes._subplots.AxesSubplot at 0x1849c7447b8>"
      ]
     },
     "execution_count": 34,
     "metadata": {},
     "output_type": "execute_result"
    },
    {
     "data": {
      "image/png": "[encoded data removed]",
      "text/plain": [
       "<Figure size 432x288 with 1 Axes>"
      ]
     },
     "metadata": {},
     "output_type": "display_data"
    }
   ],
   "source": [
    "sns.boxplot(x = clean_data[\"Contra\"], y = clean_data[\"Indication\"])"
   ]
  },
  {
   "cell_type": "code",
   "execution_count": 35,
   "metadata": {},
   "outputs": [
    {
     "name": "stdout",
     "output_type": "stream",
     "text": [
      "IPSI      12.0\n",
      "Contra    55.0\n",
      "NoRisk     1.0\n",
      "Risk       1.0\n",
      "dtype: float64\n"
     ]
    }
   ],
   "source": [
    "Q1 = clean_data.quantile(0.25)\n",
    "Q3 = clean_data.quantile(0.75)\n",
    "IQR = Q3 - Q1\n",
    "print(IQR)"
   ]
  },
  {
   "cell_type": "code",
   "execution_count": 36,
   "metadata": {},
   "outputs": [],
   "source": [
    "#ipsi_num = clean_data[\"IPSI\"] - 76\n",
    "#ipsi_num\n",
    "#dummies[\"IPSI\"] = dummies[\"IPSI\"] - 39\n",
    "#corr = dummies[dummies[\"Diabetes_yes\"] == 1].mean()\n",
    "#sns.heatmap(dummies.corr(), annot=True)\n",
    "#plt.show()"
   ]
  },
  {
   "cell_type": "code",
   "execution_count": 37,
   "metadata": {},
   "outputs": [],
   "source": [
    "df_norm_IPSI = (clean_data[\"IPSI\"] - clean_data[\"IPSI\"].mean()) \\\n",
    "/ (clean_data[\"IPSI\"].max() - clean_data[\"IPSI\"].min())\n",
    "\n",
    "df_norm_contra = (clean_data[\"Contra\"] - clean_data[\"Contra\"].mean()) \\\n",
    "/ (clean_data[\"Contra\"].max() - clean_data[\"Contra\"].min())\n",
    "\n",
    "#df_norm_IPSI"
   ]
  },
  {
   "cell_type": "markdown",
   "metadata": {},
   "source": [
    "## Preprocessing the data"
   ]
  },
  {
   "cell_type": "code",
   "execution_count": 38,
   "metadata": {},
   "outputs": [
    {
     "name": "stdout",
     "output_type": "stream",
     "text": [
      "Indication' :  ['A-F' 'TIA' 'CVA' 'ASx']\n",
      "Diabetes' :  ['no' 'yes']\n",
      "IHD' :  ['no' 'yes']\n",
      "Hypertension' :  ['yes' 'no']\n",
      "Arrhythmia' :  ['no' 'yes']\n",
      "History' :  ['no' 'yes']\n",
      "label' :  ['NoRisk' 'Risk']\n"
     ]
    }
   ],
   "source": [
    "print(\"Indication' : \",clean_data['Indication'].unique())\n",
    "print(\"Diabetes' : \",clean_data['Diabetes'].unique())\n",
    "print(\"IHD' : \",clean_data['IHD'].unique())\n",
    "print(\"Hypertension' : \",clean_data['Hypertension'].unique())\n",
    "print(\"Arrhythmia' : \",clean_data['Arrhythmia'].unique())\n",
    "print(\"History' : \",clean_data['History'].unique())\n",
    "print(\"label' : \",clean_data['label'].unique())"
   ]
  },
  {
   "cell_type": "code",
   "execution_count": 39,
   "metadata": {},
   "outputs": [
    {
     "data": {
      "text/html": [
       "<div>\n",
       "<style scoped>\n",
       "    .dataframe tbody tr th:only-of-type {\n",
       "        vertical-align: middle;\n",
       "    }\n",
       "\n",
       "    .dataframe tbody tr th {\n",
       "        vertical-align: top;\n",
       "    }\n",
       "\n",
       "    .dataframe thead th {\n",
       "        text-align: right;\n",
       "    }\n",
       "</style>\n",
       "<table border=\"1\" class=\"dataframe\">\n",
       "  <thead>\n",
       "    <tr style=\"text-align: right;\">\n",
       "      <th></th>\n",
       "      <th>Indication</th>\n",
       "      <th>Diabetes</th>\n",
       "      <th>IHD</th>\n",
       "      <th>Hypertension</th>\n",
       "      <th>Arrhythmia</th>\n",
       "      <th>History</th>\n",
       "      <th>IPSI</th>\n",
       "      <th>Contra</th>\n",
       "      <th>label</th>\n",
       "      <th>NoRisk</th>\n",
       "      <th>Risk</th>\n",
       "    </tr>\n",
       "  </thead>\n",
       "  <tbody>\n",
       "    <tr>\n",
       "      <th>0</th>\n",
       "      <td>0</td>\n",
       "      <td>0</td>\n",
       "      <td>0</td>\n",
       "      <td>1</td>\n",
       "      <td>0</td>\n",
       "      <td>0</td>\n",
       "      <td>78.0</td>\n",
       "      <td>20.0</td>\n",
       "      <td>0</td>\n",
       "      <td>1</td>\n",
       "      <td>0</td>\n",
       "    </tr>\n",
       "    <tr>\n",
       "      <th>1</th>\n",
       "      <td>3</td>\n",
       "      <td>0</td>\n",
       "      <td>0</td>\n",
       "      <td>0</td>\n",
       "      <td>0</td>\n",
       "      <td>0</td>\n",
       "      <td>70.0</td>\n",
       "      <td>60.0</td>\n",
       "      <td>0</td>\n",
       "      <td>1</td>\n",
       "      <td>0</td>\n",
       "    </tr>\n",
       "    <tr>\n",
       "      <th>2</th>\n",
       "      <td>0</td>\n",
       "      <td>0</td>\n",
       "      <td>1</td>\n",
       "      <td>1</td>\n",
       "      <td>0</td>\n",
       "      <td>0</td>\n",
       "      <td>95.0</td>\n",
       "      <td>40.0</td>\n",
       "      <td>1</td>\n",
       "      <td>0</td>\n",
       "      <td>1</td>\n",
       "    </tr>\n",
       "    <tr>\n",
       "      <th>3</th>\n",
       "      <td>3</td>\n",
       "      <td>0</td>\n",
       "      <td>0</td>\n",
       "      <td>1</td>\n",
       "      <td>0</td>\n",
       "      <td>0</td>\n",
       "      <td>90.0</td>\n",
       "      <td>85.0</td>\n",
       "      <td>1</td>\n",
       "      <td>0</td>\n",
       "      <td>1</td>\n",
       "    </tr>\n",
       "    <tr>\n",
       "      <th>4</th>\n",
       "      <td>2</td>\n",
       "      <td>0</td>\n",
       "      <td>0</td>\n",
       "      <td>0</td>\n",
       "      <td>0</td>\n",
       "      <td>0</td>\n",
       "      <td>70.0</td>\n",
       "      <td>20.0</td>\n",
       "      <td>0</td>\n",
       "      <td>1</td>\n",
       "      <td>0</td>\n",
       "    </tr>\n",
       "  </tbody>\n",
       "</table>\n",
       "</div>"
      ],
      "text/plain": [
       "   Indication  Diabetes  IHD  Hypertension  Arrhythmia  History  IPSI  Contra  \\\n",
       "0           0         0    0             1           0        0  78.0    20.0   \n",
       "1           3         0    0             0           0        0  70.0    60.0   \n",
       "2           0         0    1             1           0        0  95.0    40.0   \n",
       "3           3         0    0             1           0        0  90.0    85.0   \n",
       "4           2         0    0             0           0        0  70.0    20.0   \n",
       "\n",
       "   label  NoRisk  Risk  \n",
       "0      0       1     0  \n",
       "1      0       1     0  \n",
       "2      1       0     1  \n",
       "3      1       0     1  \n",
       "4      0       1     0  "
      ]
     },
     "execution_count": 39,
     "metadata": {},
     "output_type": "execute_result"
    }
   ],
   "source": [
    "#create the variable that the new data will go into, thus maintaining data integrity\n",
    "clean_data_process = clean_data\n",
    "# create the Labelencoder object\n",
    "le = preprocessing.LabelEncoder()\n",
    "#convert the categorical columns into numeric\n",
    "clean_data_process['Indication'] = le.fit_transform(clean_data['Indication'])\n",
    "clean_data_process['Diabetes'] = le.fit_transform(clean_data['Diabetes'])\n",
    "clean_data_process['IHD'] = le.fit_transform(clean_data['IHD'])\n",
    "clean_data_process['Hypertension'] = le.fit_transform(clean_data['Hypertension'])\n",
    "clean_data_process['Arrhythmia'] = le.fit_transform(clean_data['Arrhythmia'])\n",
    "clean_data_process['History'] = le.fit_transform(clean_data['History'])\n",
    "clean_data_process['label'] = le.fit_transform(clean_data['label'])\n",
    " \n",
    "#display the initial records\n",
    "clean_data_process.head()"
   ]
  },
  {
   "cell_type": "code",
   "execution_count": 40,
   "metadata": {},
   "outputs": [
    {
     "data": {
      "text/html": [
       "<div>\n",
       "<style scoped>\n",
       "    .dataframe tbody tr th:only-of-type {\n",
       "        vertical-align: middle;\n",
       "    }\n",
       "\n",
       "    .dataframe tbody tr th {\n",
       "        vertical-align: top;\n",
       "    }\n",
       "\n",
       "    .dataframe thead th {\n",
       "        text-align: right;\n",
       "    }\n",
       "</style>\n",
       "<table border=\"1\" class=\"dataframe\">\n",
       "  <thead>\n",
       "    <tr style=\"text-align: right;\">\n",
       "      <th></th>\n",
       "      <th>Indication</th>\n",
       "      <th>Diabetes</th>\n",
       "      <th>IHD</th>\n",
       "      <th>Hypertension</th>\n",
       "      <th>Arrhythmia</th>\n",
       "      <th>History</th>\n",
       "      <th>IPSI</th>\n",
       "      <th>Contra</th>\n",
       "    </tr>\n",
       "  </thead>\n",
       "  <tbody>\n",
       "    <tr>\n",
       "      <th>0</th>\n",
       "      <td>0</td>\n",
       "      <td>0</td>\n",
       "      <td>0</td>\n",
       "      <td>1</td>\n",
       "      <td>0</td>\n",
       "      <td>0</td>\n",
       "      <td>78.0</td>\n",
       "      <td>20.0</td>\n",
       "    </tr>\n",
       "    <tr>\n",
       "      <th>1</th>\n",
       "      <td>3</td>\n",
       "      <td>0</td>\n",
       "      <td>0</td>\n",
       "      <td>0</td>\n",
       "      <td>0</td>\n",
       "      <td>0</td>\n",
       "      <td>70.0</td>\n",
       "      <td>60.0</td>\n",
       "    </tr>\n",
       "    <tr>\n",
       "      <th>2</th>\n",
       "      <td>0</td>\n",
       "      <td>0</td>\n",
       "      <td>1</td>\n",
       "      <td>1</td>\n",
       "      <td>0</td>\n",
       "      <td>0</td>\n",
       "      <td>95.0</td>\n",
       "      <td>40.0</td>\n",
       "    </tr>\n",
       "    <tr>\n",
       "      <th>3</th>\n",
       "      <td>3</td>\n",
       "      <td>0</td>\n",
       "      <td>0</td>\n",
       "      <td>1</td>\n",
       "      <td>0</td>\n",
       "      <td>0</td>\n",
       "      <td>90.0</td>\n",
       "      <td>85.0</td>\n",
       "    </tr>\n",
       "    <tr>\n",
       "      <th>4</th>\n",
       "      <td>2</td>\n",
       "      <td>0</td>\n",
       "      <td>0</td>\n",
       "      <td>0</td>\n",
       "      <td>0</td>\n",
       "      <td>0</td>\n",
       "      <td>70.0</td>\n",
       "      <td>20.0</td>\n",
       "    </tr>\n",
       "  </tbody>\n",
       "</table>\n",
       "</div>"
      ],
      "text/plain": [
       "   Indication  Diabetes  IHD  Hypertension  Arrhythmia  History  IPSI  Contra\n",
       "0           0         0    0             1           0        0  78.0    20.0\n",
       "1           3         0    0             0           0        0  70.0    60.0\n",
       "2           0         0    1             1           0        0  95.0    40.0\n",
       "3           3         0    0             1           0        0  90.0    85.0\n",
       "4           2         0    0             0           0        0  70.0    20.0"
      ]
     },
     "execution_count": 40,
     "metadata": {},
     "output_type": "execute_result"
    }
   ],
   "source": [
    "#removing the risk and no risk columns\n",
    "riskclassify = [col for col in clean_data_process.columns if col not in ['Risk','NoRisk','label']]\n",
    "meddata = clean_data_process[riskclassify]\n",
    "meddata.head()"
   ]
  },
  {
   "cell_type": "markdown",
   "metadata": {},
   "source": [
    "### K-Fold Cross-Validation"
   ]
  },
  {
   "cell_type": "code",
   "execution_count": 41,
   "metadata": {},
   "outputs": [],
   "source": [
    "#kf = KFold(n_splits=10, shuffle=False, random_state=None) \n",
    "\n",
    "#for train_index, test_index in kf.split(clean_data_process):\n",
    "#      print(\"Train:\", train_index, \"Validation:\",test_index)      "
   ]
  },
  {
   "cell_type": "code",
   "execution_count": 42,
   "metadata": {},
   "outputs": [],
   "source": [
    "#declare the target of the model\n",
    "target = clean_data['label']"
   ]
  },
  {
   "cell_type": "code",
   "execution_count": 43,
   "metadata": {},
   "outputs": [],
   "source": [
    "#create and split up the training and test data for the models\n",
    "#random state is used so that we get reproducible results every time.\n",
    "x = meddata\n",
    "y = target\n",
    "\n",
    "#create the train and test sets\n",
    "x_train, x_test, y_train, y_test = train_test_split(x,y, test_size = 0.30, random_state = 0)"
   ]
  },
  {
   "cell_type": "markdown",
   "metadata": {},
   "source": [
    "### Linear Regression Model"
   ]
  },
  {
   "cell_type": "code",
   "execution_count": 44,
   "metadata": {},
   "outputs": [
    {
     "name": "stdout",
     "output_type": "stream",
     "text": [
      "[0.71588903 0.73916547 0.73507995 0.69820934 0.72791465]\n"
     ]
    }
   ],
   "source": [
    "multireg = LinearRegression()\n",
    "acc_score_lin = cross_val_score(multireg, x, y, cv = 5)\n",
    "print(acc_score_lin)\n",
    "lin_score = cross_val_score(multireg, x, y, cv = 5, scoring='neg_mean_absolute_error')"
   ]
  },
  {
   "cell_type": "code",
   "execution_count": 45,
   "metadata": {},
   "outputs": [
    {
     "data": {
      "text/plain": [
       "array([0.19220819, 0.18951195, 0.18204357, 0.1993582 , 0.19252025])"
      ]
     },
     "execution_count": 45,
     "metadata": {},
     "output_type": "execute_result"
    }
   ],
   "source": [
    "lin_score_n = -lin_score\n",
    "lin_score_n"
   ]
  },
  {
   "cell_type": "code",
   "execution_count": 46,
   "metadata": {},
   "outputs": [
    {
     "data": {
      "text/plain": [
       "0.19112842981211092"
      ]
     },
     "execution_count": 46,
     "metadata": {},
     "output_type": "execute_result"
    }
   ],
   "source": [
    "np.mean(lin_score_n)"
   ]
  },
  {
   "cell_type": "markdown",
   "metadata": {},
   "source": [
    "Due to the low accuracy score, this model couldn't be considered, even when corss validation has been impleted on it, so it's time to try the next model. This models accuracy can be explained by its linearity in nature."
   ]
  },
  {
   "cell_type": "markdown",
   "metadata": {},
   "source": [
    "### Naive Bayes Gaussian Model"
   ]
  },
  {
   "cell_type": "markdown",
   "metadata": {},
   "source": [
    "The first model that will be created, is the Naive Bayes model. This is a good first choice due to this alrogithm ability to classify an outcome given a certain set of events. The dataset we have has events that lead to the risk or no risk result."
   ]
  },
  {
   "cell_type": "code",
   "execution_count": 47,
   "metadata": {},
   "outputs": [
    {
     "name": "stdout",
     "output_type": "stream",
     "text": [
      "Naive-Bayes accuracy :  0.9066666666666666\n"
     ]
    }
   ],
   "source": [
    "#create an object of the type GaussianNB\n",
    "gnb = GaussianNB()\n",
    "#train the algorithm on training data and predict using the testing data\n",
    "pred = gnb.fit(x_train, y_train).predict(x_test)\n",
    "#print(pred.tolist())\n",
    "#print the accuracy score of the model\n",
    "print(\"Naive-Bayes accuracy : \",accuracy_score(y_test, pred, normalize = True))"
   ]
  },
  {
   "cell_type": "markdown",
   "metadata": {},
   "source": [
    "How will the outcome of this model change if we do this with cross validation instead of splitting the train and test sets ourselves?"
   ]
  },
  {
   "cell_type": "code",
   "execution_count": 48,
   "metadata": {},
   "outputs": [
    {
     "name": "stdout",
     "output_type": "stream",
     "text": [
      "Naive Bayes Cross-Validation Mean Accuracy :  0.9\n"
     ]
    }
   ],
   "source": [
    "#create an object of the type GaussianNB\n",
    "gnb = GaussianNB()\n",
    "#Train the algorithm\n",
    "gauss_score = cross_val_score(gnb, x, y, cv=5, scoring='accuracy')\n",
    "#print(gauss_score)\n",
    "print(\"Naive Bayes Cross-Validation Mean Accuracy : \", gauss_score.mean())"
   ]
  },
  {
   "cell_type": "code",
   "execution_count": 49,
   "metadata": {},
   "outputs": [
    {
     "name": "stdout",
     "output_type": "stream",
     "text": [
      "[[984  16]\n",
      " [134 366]]\n"
     ]
    }
   ],
   "source": [
    "#create a confusion matrix for the dataset through cross validation folds\n",
    "y_pred = cross_val_predict(gnb, x, y, cv=5)\n",
    "conf_mat = confusion_matrix(y, y_pred)\n",
    "print(conf_mat)"
   ]
  },
  {
   "cell_type": "code",
   "execution_count": 50,
   "metadata": {},
   "outputs": [
    {
     "data": {
      "text/plain": [
       "0.1"
      ]
     },
     "execution_count": 50,
     "metadata": {},
     "output_type": "execute_result"
    }
   ],
   "source": [
    "#calculate the mean absolute error \n",
    "mean_absolute_error(y,y_pred)"
   ]
  },
  {
   "cell_type": "markdown",
   "metadata": {},
   "source": [
    "For the Naive Bayes model, the accuracy when running cross validation tends to be around the same each time, but there is less bias as all of the dataset is used testing than just one defined split.."
   ]
  },
  {
   "cell_type": "code",
   "execution_count": 51,
   "metadata": {},
   "outputs": [
    {
     "name": "stdout",
     "output_type": "stream",
     "text": [
      "              precision    recall  f1-score   support\n",
      "\n",
      "           0       0.89      0.99      0.94       306\n",
      "           1       0.97      0.73      0.83       144\n",
      "\n",
      "   micro avg       0.91      0.91      0.91       450\n",
      "   macro avg       0.93      0.86      0.88       450\n",
      "weighted avg       0.91      0.91      0.90       450\n",
      "\n",
      "[[303   3]\n",
      " [ 39 105]]\n"
     ]
    }
   ],
   "source": [
    "print(metrics.classification_report(y_test, pred))\n",
    "cf_nb = confusion_matrix(y_test, pred)\n",
    "print(cf_nb)"
   ]
  },
  {
   "cell_type": "code",
   "execution_count": 52,
   "metadata": {},
   "outputs": [
    {
     "data": {
      "image/png": "[encoded data removed]",
      "text/plain": [
       "<Figure size 432x288 with 2 Axes>"
      ]
     },
     "metadata": {},
     "output_type": "display_data"
    }
   ],
   "source": [
    "# Instantiate the classification model and visualizer\n",
    "visualizer = ClassificationReport(gnb, classes=['NoRisk','Risk'])\n",
    "visualizer.fit(x_train, y_train) # Fit the training data to the visualizer\n",
    "visualizer.score(x_test, y_test) # Evaluate the model on the test data\n",
    "g = visualizer.poof() # Draw/show/poof the data"
   ]
  },
  {
   "cell_type": "code",
   "execution_count": 53,
   "metadata": {},
   "outputs": [
    {
     "name": "stdout",
     "output_type": "stream",
     "text": [
      "Confusion matrix, without normalization\n",
      "[[303   3]\n",
      " [ 39 105]]\n",
      "Normalized confusion matrix\n",
      "[[0.99 0.01]\n",
      " [0.27 0.73]]\n"
     ]
    },
    {
     "data": {
      "image/png": "[encoded data removed]",
      "text/plain": [
       "<Figure size 432x288 with 2 Axes>"
      ]
     },
     "metadata": {},
     "output_type": "display_data"
    },
    {
     "data": {
      "image/png": "[encoded data removed]",
      "text/plain": [
       "<Figure size 432x288 with 2 Axes>"
      ]
     },
     "metadata": {},
     "output_type": "display_data"
    }
   ],
   "source": [
    "classes = ['NoRisk', 'Risk']\n",
    "def plot_confusion_matrix(y_true, y_pred, classes,\n",
    "                          normalize=False,\n",
    "                          title=None,\n",
    "                          cmap=plt.cm.Blues):\n",
    "    \"\"\"\n",
    "    This function prints and plots the confusion matrix.\n",
    "    Normalization can be applied by setting `normalize=True`.\n",
    "    \"\"\"\n",
    "    sns.set_style(\"dark\")\n",
    "    if not title:\n",
    "        if normalize:\n",
    "            title = 'Normalized confusion matrix'\n",
    "        else:\n",
    "            title = 'Confusion matrix, without normalization'\n",
    "\n",
    "    # Compute confusion matrix\n",
    "    cf_nb = confusion_matrix(y_test, pred)\n",
    "    # Only use the labels that appear in the data\n",
    "    classes = classes\n",
    "    if normalize:\n",
    "        cf_nb = cf_nb.astype('float') / cf_nb.sum(axis=1)[:, np.newaxis]\n",
    "        print(\"Normalized confusion matrix\")\n",
    "    else:\n",
    "        print('Confusion matrix, without normalization')\n",
    "\n",
    "    print(cf_nb)\n",
    "\n",
    "    fig, ax = plt.subplots()\n",
    "    im = ax.imshow(cf_nb, interpolation='nearest', cmap=cmap)\n",
    "    ax.figure.colorbar(im, ax=ax)\n",
    "    # We want to show all ticks...\n",
    "    ax.set(xticks=np.arange(cf_nb.shape[1]),\n",
    "           yticks=np.arange(cf_nb.shape[0]),\n",
    "           # ... and label them with the respective list entries\n",
    "           xticklabels=classes, yticklabels=classes,\n",
    "           title=title,\n",
    "           ylabel='True label',\n",
    "           xlabel='Predicted label')\n",
    "\n",
    "    # Rotate the tick labels and set their alignment.\n",
    "    plt.setp(ax.get_xticklabels(), rotation=45, ha=\"right\",\n",
    "             rotation_mode=\"anchor\")\n",
    "\n",
    "    # Loop over data dimensions and create text annotations.\n",
    "    fmt = '.2f' if normalize else 'd'\n",
    "    thresh = cf_nb.max() / 2.\n",
    "    for i in range(cf_nb.shape[0]):\n",
    "        for j in range(cf_nb.shape[1]):\n",
    "            ax.text(j, i, format(cf_nb[i, j], fmt),\n",
    "                    ha=\"center\", va=\"center\",\n",
    "                    color=\"white\" if cf_nb[i, j] > thresh else \"black\")\n",
    "    fig.tight_layout()\n",
    "    return ax\n",
    "\n",
    "\n",
    "np.set_printoptions(precision=2)\n",
    "\n",
    "# Plot non-normalized confusion matrix\n",
    "plot_confusion_matrix(y_test, pred, classes=classes,\n",
    "                      title='Confusion matrix, without normalization')\n",
    "\n",
    "# Plot normalized confusion matrix\n",
    "plot_confusion_matrix(y_test, pred, classes=classes, normalize=True,\n",
    "                      title='Normalized confusion matrix')\n",
    "\n",
    "plt.show()"
   ]
  },
  {
   "cell_type": "markdown",
   "metadata": {},
   "source": [
    "### Linear SVC Model"
   ]
  },
  {
   "cell_type": "markdown",
   "metadata": {},
   "source": [
    "Creating the Linear Support Vector Classification model."
   ]
  },
  {
   "cell_type": "code",
   "execution_count": 54,
   "metadata": {},
   "outputs": [
    {
     "name": "stdout",
     "output_type": "stream",
     "text": [
      "LinearSVC accuracy :  0.9666666666666667\n"
     ]
    }
   ],
   "source": [
    "svc_model = LinearSVC(random_state=0, max_iter=1000000)\n",
    "#train the algorithm on training data and predict using the testing data\n",
    "pred = svc_model.fit(x_train, y_train).predict(x_test)\n",
    "#print the accuracy score of the model\n",
    "print(\"LinearSVC accuracy : \",accuracy_score(y_test, pred, normalize = True))"
   ]
  },
  {
   "cell_type": "code",
   "execution_count": null,
   "metadata": {},
   "outputs": [],
   "source": []
  },
  {
   "cell_type": "markdown",
   "metadata": {},
   "source": [
    "### K-Nearest Neighbours Model - using Cross Validation"
   ]
  },
  {
   "cell_type": "code",
   "execution_count": 55,
   "metadata": {},
   "outputs": [
    {
     "name": "stdout",
     "output_type": "stream",
     "text": [
      "[0.97 0.92 0.99 0.95 0.98 0.98 0.96 0.96 0.99 0.95]\n",
      "0.9646666666666667\n"
     ]
    }
   ],
   "source": [
    "neigh = KNeighborsClassifier(n_neighbors=3)\n",
    "#Train the algorithm\n",
    "knnscore = cross_val_score(neigh, x, y, cv=10, scoring='accuracy')\n",
    "print(knnscore)\n",
    "print(knnscore.mean())\n",
    "\n",
    "#neigh.fit(x_train, y_train)\n",
    "# predict the response\n",
    "#pred = neigh.predict(x_test)\n",
    "# evaluate accuracy\n",
    "#print (\"KNeighbors accuracy score : \",accuracy_score(y_test, pred))"
   ]
  },
  {
   "cell_type": "markdown",
   "metadata": {},
   "source": [
    "### Finding the best value for K for the KNN model"
   ]
  },
  {
   "cell_type": "code",
   "execution_count": 56,
   "metadata": {},
   "outputs": [
    {
     "name": "stdout",
     "output_type": "stream",
     "text": [
      "[0.9833333333333334, 0.9753333333333334, 0.9646666666666667, 0.9566666666666667, 0.9540000000000001, 0.9453333333333331, 0.9399999999999998, 0.9326666666666666, 0.9286666666666668, 0.9246666666666666, 0.9213333333333333, 0.9199999999999999, 0.9113333333333333, 0.9126666666666665, 0.9106666666666667, 0.9126666666666667, 0.9066666666666666, 0.9046666666666667, 0.906, 0.9120000000000001, 0.9046666666666667, 0.9066666666666666, 0.9086666666666667, 0.9086666666666667, 0.9066666666666666, 0.908, 0.9013333333333332, 0.9013333333333333, 0.9, 0.8933333333333333]\n"
     ]
    }
   ],
   "source": [
    "#search for an optimal value for K for KNN\n",
    "k_range = range(1, 31)\n",
    "k_scores = []\n",
    "for k in k_range:\n",
    "    neigh = KNeighborsClassifier(n_neighbors=k)\n",
    "    knnscore = cross_val_score(neigh, x, y, cv=10, scoring='accuracy')\n",
    "    k_scores.append(knnscore.mean())\n",
    "print(k_scores)"
   ]
  },
  {
   "cell_type": "code",
   "execution_count": 57,
   "metadata": {},
   "outputs": [
    {
     "data": {
      "text/plain": [
       "Text(0, 0.5, 'Cross-Validated Accuracy')"
      ]
     },
     "execution_count": 57,
     "metadata": {},
     "output_type": "execute_result"
    },
    {
     "data": {
      "image/png": "[encoded data removed]",
      "text/plain": [
       "<Figure size 432x288 with 1 Axes>"
      ]
     },
     "metadata": {},
     "output_type": "display_data"
    }
   ],
   "source": [
    "plt.plot(k_range,k_scores)\n",
    "plt.xlabel('Value of K for KNN')\n",
    "plt.ylabel('Cross-Validated Accuracy')"
   ]
  },
  {
   "cell_type": "code",
   "execution_count": 58,
   "metadata": {},
   "outputs": [
    {
     "name": "stdout",
     "output_type": "stream",
     "text": [
      "[0.97 0.96 1.   0.96 0.98 0.99 0.95 0.95 0.99 0.95]\n",
      "0.9686666666666668\n"
     ]
    }
   ],
   "source": [
    "logreg = LogisticRegression(solver='lbfgs', max_iter=1000)\n",
    "logregscore = cross_val_score(logreg, x, y, cv=10, scoring='accuracy')\n",
    "print(logregscore)\n",
    "print(logregscore.mean())"
   ]
  },
  {
   "cell_type": "code",
   "execution_count": null,
   "metadata": {},
   "outputs": [],
   "source": []
  }
 ],
 "metadata": {
  "kernelspec": {
   "display_name": "Python 3",
   "language": "python",
   "name": "python3"
  },
  "language_info": {
   "codemirror_mode": {
    "name": "ipython",
    "version": 3
   },
   "file_extension": ".py",
   "mimetype": "text/x-python",
   "name": "python",
   "nbconvert_exporter": "python",
   "pygments_lexer": "ipython3",
   "version": "3.7.3"
  }
 },
 "nbformat": 4,
 "nbformat_minor": 2
}
